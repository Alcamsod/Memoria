{
 "cells": [
  {
   "cell_type": "markdown",
   "id": "40ba6f4a",
   "metadata": {},
   "source": [
    "# Importaciones y definiciones"
   ]
  },
  {
   "cell_type": "code",
   "execution_count": 1,
   "id": "40ba6f4a",
   "metadata": {},
   "outputs": [
    {
     "ename": "ModuleNotFoundError",
     "evalue": "No module named 'sklearn'",
     "output_type": "error",
     "traceback": [
      "\u001b[31m---------------------------------------------------------------------------\u001b[39m",
      "\u001b[31mModuleNotFoundError\u001b[39m                       Traceback (most recent call last)",
      "\u001b[36mCell\u001b[39m\u001b[36m \u001b[39m\u001b[32mIn[1]\u001b[39m\u001b[32m, line 8\u001b[39m\n\u001b[32m      6\u001b[39m \u001b[38;5;66;03m# Operaciones y métricas\u001b[39;00m\n\u001b[32m      7\u001b[39m \u001b[38;5;28;01mimport\u001b[39;00m\u001b[38;5;250m \u001b[39m\u001b[34;01mnumpy\u001b[39;00m\u001b[38;5;250m \u001b[39m\u001b[38;5;28;01mas\u001b[39;00m\u001b[38;5;250m \u001b[39m\u001b[34;01mnp\u001b[39;00m\n\u001b[32m----> \u001b[39m\u001b[32m8\u001b[39m \u001b[38;5;28;01mfrom\u001b[39;00m\u001b[38;5;250m \u001b[39m\u001b[34;01msklearn\u001b[39;00m\u001b[34;01m.\u001b[39;00m\u001b[34;01mmetrics\u001b[39;00m\u001b[38;5;250m \u001b[39m\u001b[38;5;28;01mimport\u001b[39;00m mean_absolute_error, root_mean_squared_error, r2_score\n\u001b[32m      9\u001b[39m \u001b[38;5;28;01mimport\u001b[39;00m\u001b[38;5;250m \u001b[39m\u001b[34;01mscipy\u001b[39;00m\u001b[34;01m.\u001b[39;00m\u001b[34;01mstats\u001b[39;00m\u001b[38;5;250m \u001b[39m\u001b[38;5;28;01mas\u001b[39;00m\u001b[38;5;250m \u001b[39m\u001b[34;01mstats\u001b[39;00m\n\u001b[32m     10\u001b[39m \u001b[38;5;28;01mfrom\u001b[39;00m\u001b[38;5;250m \u001b[39m\u001b[34;01mscipy\u001b[39;00m\u001b[34;01m.\u001b[39;00m\u001b[34;01mstats\u001b[39;00m\u001b[38;5;250m \u001b[39m\u001b[38;5;28;01mimport\u001b[39;00m norm\n",
      "\u001b[31mModuleNotFoundError\u001b[39m: No module named 'sklearn'"
     ]
    }
   ],
   "source": [
    "# DataFrames\n",
    "import pandas as pd\n",
    "# Rutas\n",
    "import os\n",
    "from pathlib import Path\n",
    "# Operaciones y métricas\n",
    "import numpy as np\n",
    "from sklearn.metrics import mean_absolute_error, root_mean_squared_error, r2_score\n",
    "import scipy.stats as stats\n",
    "from scipy.stats import norm\n",
    "from statsmodels.tsa.stattools import adfuller, kpss\n",
    "# Gráficas\n",
    "import matplotlib\n",
    "import matplotlib.pyplot as plt\n",
    "import matplotlib.dates as mdates\n",
    "import seaborn as sns\n",
    "from statsmodels.graphics.tsaplots import plot_acf, plot_pacf\n",
    "# Modelos\n",
    "from statsmodels.tsa.statespace.sarimax import SARIMAX\n",
    "from arch import arch_model\n",
    "from pmdarima import auto_arima\n",
    "# Validación cruzada\n",
    "from sklearn.model_selection import TimeSeriesSplit"
   ]
  },
  {
   "cell_type": "markdown",
   "id": "0d84ca37",
   "metadata": {},
   "source": [
    "Para dar formato a los DataSets hacemos lo siguiente:\n",
    "- Marcamos una fecha de final por si los datos no acban en el mismo día\n",
    "- Introducimos un desfase en las varaibles exógenas para evitar el data leaking en el modelo"
   ]
  },
  {
   "cell_type": "code",
   "execution_count": null,
   "id": "1c982516",
   "metadata": {},
   "outputs": [],
   "source": [
    "def process_df(df, col, end_date):\n",
    "    \"\"\"Procesa los dataframes para asegurar el formato correcto.\"\"\"\n",
    "    df['datetime'] = pd.to_datetime(df['datetime'], utc=True)\n",
    "    df = df.set_index('datetime').asfreq('h')\n",
    "    df[col] = pd.to_numeric(df[col], errors='coerce')\n",
    "    df = df[df[col] > 0]\n",
    "    return df.loc[:end_date].dropna(subset=[col])\n",
    "\n",
    "precio_luz = process_df(precio_luz, 'precio', fecha_fin)\n",
    "generacion_eolica = process_df(generacion_eolica, 'generacion', fecha_fin)\n",
    "generacion_solar = process_df(generacion_solar, 'generacion', fecha_fin)\n",
    "demanda_real = process_df(demanda_real, 'demanda', fecha_fin)\n",
    "\n",
    "# Unimos los dataframes\n",
    "df = precio_luz[['precio']].copy()\n",
    "df['generacion_eolica'] = generacion_eolica['generacion'].shift(24)\n",
    "df['generacion_solar'] = generacion_solar['generacion'].shift(24)\n",
    "df['demanda_real'] = demanda_real['demanda'].shift(24)\n",
    "df['hora'] = df.index.hour\n",
    "df['dia_semana'] = df.index.dayofweek\n",
    "df['mes'] = df.index.month\n",
    "df['lag_24'] = df['precio'].shift(24)\n",
    "df['lag_168'] = df['precio'].shift(168)\n",
    "# df['rolling_mean_24'] = df['precio'].rolling(24).mean()\n",
    "# df['rolling_std_24'] = df['precio'].rolling(24).std()\n",
    "# df['rolling_mean_24_eolica'] = df['generacion_eolica'].rolling(24).mean()\n",
    "# df['rolling_std_24_eolica'] = df['generacion_eolica'].rolling(24).std()\n",
    "# df['rolling_mean_24_solar'] = df['generacion_solar'].rolling(24).mean()\n",
    "# df['rolling_std_24_solar'] = df['generacion_solar'].rolling(24).std()\n",
    "# df['rolling_mean_24_demanda'] = df['demanda_real'].rolling(24).mean()\n",
    "# df['rolling_std_24_demanda'] = df['demanda_real'].rolling(24).std()\n",
    "\n",
    "df.dropna(inplace=True)\n",
    "\n",
    "y = df['precio']\n",
    "\n",
    "columnas_exogenas = [\n",
    "    'generacion_eolica',\n",
    "    'generacion_solar', \n",
    "    'demanda_real',\n",
    "    'hora', \n",
    "    'dia_semana',\n",
    "    'mes',\n",
    "    'lag_24',\n",
    "    'lag_168',\n",
    "    # 'rolling_mean_24', \n",
    "    # 'rolling_std_24',\n",
    "    # 'rolling_mean_24_eolica', \n",
    "    # 'rolling_std_24_eolica',\n",
    "    # 'rolling_mean_24_solar', \n",
    "    # 'rolling_std_24_solar',\n",
    "    # 'rolling_mean_24_demanda', \n",
    "    # 'rolling_std_24_demanda',\n",
    "]\n",
    "X = df[columnas_exogenas]\n",
    "y.replace([np.inf, -np.inf], np.nan, inplace=True)\n",
    "y.dropna(inplace=True)\n",
    "X = X.loc[y.index]"
   ]
  },
  {
   "cell_type": "code",
   "execution_count": null,
   "id": "1ec14961",
   "metadata": {},
   "outputs": [],
   "source": [
    "# Fecha donde termina el entrenamiento y empieza el test\n",
    "fecha_fin_train = '2025-04-30 23:00:00+00:00'\n",
    "# Fecha donde termina la validación y empieza la predicción final\n",
    "fecha_fin_test = '2025-05-31 23:00:00+00:00'\n",
    "# Train set\n",
    "y_train = y.loc[:fecha_fin_train]\n",
    "X_train = X.loc[:fecha_fin_train]\n",
    "# Test set\n",
    "y_test = y.loc[pd.to_datetime(fecha_fin_train) + pd.Timedelta(hours=1) : fecha_fin_test]\n",
    "X_test = X.loc[pd.to_datetime(fecha_fin_train) + pd.Timedelta(hours=1) : fecha_fin_test]\n",
    "y_prediccion_real = y.loc[pd.to_datetime(fecha_fin_test) + pd.Timedelta(hours=1):]\n",
    "X_prediccion = X.loc[pd.to_datetime(fecha_fin_test) + pd.Timedelta(hours=1):]\n",
    "print(\"--- Verificación de Índices ---\")\n",
    "print(f\"Train:{y_train.index.min()} -> {y_train.index.max()} (Tamaño: {len(y_train)})\")\n",
    "print(f\"Test:{y_test.index.min()} -> {y_test.index.max()} (Tamaño: {len(y_test)})\")\n",
    "print(f\"Predicción: {X_prediccion.index.min()} -> {X_prediccion.index.max()} (Tamaño: {len(X_prediccion)})\")"
   ]
  },
  {
   "cell_type": "code",
   "execution_count": null,
   "id": "3aa4c49d",
   "metadata": {},
   "outputs": [],
   "source": [
    "# Definimos el objeto TimeSeriesSplit\n",
    "n_splits = 3  \n",
    "test_size = 30 * 24 *3\n",
    "tscv = TimeSeriesSplit(n_splits=n_splits, test_size=test_size)\n",
    "\n",
    "mae_scores = []\n",
    "rmse_scores = []\n",
    "r2_scores = []\n",
    "\n",
    "# Realizamos la validación cruzada\n",
    "for fold, (train_index, test_index) in enumerate(tscv.split(X)):\n",
    "    print(f\"--- Fold {fold + 1} ---\")\n",
    "    \n",
    "    # Dividimos los datos en entrenamiento y validación para el fold actual\n",
    "    y_train_fold, y_test_fold = y.iloc[train_index], y.iloc[test_index]\n",
    "    X_train_fold, X_test_fold = X.iloc[train_index], X.iloc[test_index]\n",
    "    \n",
    "    print(f\"Tamaño del conjunto de entrenamiento: {len(y_train_fold)}\")\n",
    "    print(f\"Tamaño del conjunto de validación: {len(y_test_fold)}\")\n",
    "    \n",
    "    # ----------------------------------------------------\n",
    "    # Aquí es donde se entrena el modelo SARIMAX para cada fold\n",
    "    # ----------------------------------------------------\n",
    "    # Definimos los parámetros del modelo. En un caso real, podrías optimizarlos aquí.\n",
    "    # Por ahora, usamos los que obtuviste con auto_arima\n",
    "    order = (2, 1, 1)\n",
    "    seasonal_order = (1, 1, 1, 24)\n",
    "    \n",
    "    modelo = SARIMAX(\n",
    "        endog=y_train_fold,\n",
    "        exog=X_train_fold,\n",
    "        order=order,\n",
    "        seasonal_order=seasonal_order,\n",
    "        enforce_stationarity=False,\n",
    "        enforce_invertibility=False\n",
    "    )\n",
    "    \n",
    "    # Entrenamos el modelo\n",
    "    modelo_fit = modelo.fit(disp=False)\n",
    "    \n",
    "    # Realizamos la predicción en el conjunto de validación\n",
    "    # El método get_prediction necesita los exógenos del conjunto de test\n",
    "    predicciones = modelo_fit.get_prediction(start=y_test_fold.index[0], end=y_test_fold.index[-1], exog=X_test_fold)\n",
    "    y_pred_fold = predicciones.predicted_mean\n",
    "    \n",
    "    # ----------------------------------------------------\n",
    "    # Evaluamos las métricas\n",
    "    # ----------------------------------------------------\n",
    "    mae = mean_absolute_error(y_test_fold, y_pred_fold)\n",
    "    rmse = root_mean_squared_error(y_test_fold, y_pred_fold)\n",
    "    r2 = r2_score(y_test_fold, y_pred_fold)\n",
    "    \n",
    "    # Almacenamos las métricas\n",
    "    mae_scores.append(mae)\n",
    "    rmse_scores.append(rmse)\n",
    "    r2_scores.append(r2)\n",
    "    \n",
    "    print(f\"MAE del Fold {fold + 1}: {mae:.2f}\")\n",
    "    print(f\"RMSE del Fold {fold + 1}: {rmse:.2f}\")\n",
    "    print(f\"R² del Fold {fold + 1}: {r2:.2f}\")\n",
    "    print(\"\\n\")\n",
    "\n",
    "# ----------------------------------------------------\n",
    "# Resultados finales de la validación cruzada\n",
    "# ----------------------------------------------------\n",
    "print(\"--- Resumen de la Validación Cruzada ---\")\n",
    "print(f\"MAE promedio: {np.mean(mae_scores):.2f} ± {np.std(mae_scores):.2f}\")\n",
    "print(f\"RMSE promedio: {np.mean(rmse_scores):.2f} ± {np.std(rmse_scores):.2f}\")\n",
    "print(f\"R² promedio: {np.mean(r2_scores):.2f} ± {np.std(r2_scores):.2f}\")\n",
    "print(\"-\" * 35)\n",
    "\n",
    "# Opcionalmente, puedes graficar los resultados de cada fold\n",
    "fig, axes = plt.subplots(n_splits, 1, figsize=(15, 6 * n_splits), sharex=True)\n",
    "for fold, (train_index, test_index) in enumerate(tscv.split(X)):\n",
    "    y_train_fold, y_test_fold = y.iloc[train_index], y.iloc[test_index]\n",
    "    X_train_fold, X_test_fold = X.iloc[train_index], X.iloc[test_index]\n",
    "    \n",
    "    modelo = SARIMAX(\n",
    "        endog=y_train_fold,\n",
    "        exog=X_train_fold,\n",
    "        order=order,\n",
    "        seasonal_order=seasonal_order\n",
    "    )\n",
    "    modelo_fit = modelo.fit(disp=False)\n",
    "    predicciones = modelo_fit.get_prediction(start=y_test_fold.index[0], end=y_test_fold.index[-1], exog=X_test_fold)\n",
    "    y_pred_fold = predicciones.predicted_mean\n",
    "    \n",
    "    axes[fold].plot(y_train_fold.index, y_train_fold, label='Entrenamiento', color='blue')\n",
    "    axes[fold].plot(y_test_fold.index, y_test_fold, label='Test (Real)', color='green')\n",
    "    axes[fold].plot(y_test_fold.index, y_pred_fold, label='Predicción (Test)', color='red', linestyle='--')\n",
    "    axes[fold].set_title(f'Validación Cruzada - Fold {fold + 1}')\n",
    "    axes[fold].set_ylabel('Precio')\n",
    "    axes[fold].legend()\n",
    "    axes[fold].grid(True)\n",
    "plt.tight_layout()\n",
    "plt.show()"
   ]
  },
  {
   "cell_type": "markdown",
   "id": "8ebe76c5",
   "metadata": {},
   "source": [
    "# Análisis exploratorio"
   ]
  },
  {
   "cell_type": "code",
   "execution_count": null,
   "id": "5088bd74",
   "metadata": {},
   "outputs": [],
   "source": [
    "# Graficamos directamente la serie de precios\n",
    "plt.figure(figsize=(14, 6))\n",
    "\n",
    "plt.plot(y_train.index, y_train, label='Train', color='blue')\n",
    "plt.plot(y_test.index, y_test, label='Test', color='green')\n",
    "plt.plot(y_prediccion_real.index, y_prediccion_real, label='Predicción', color='orange')\n",
    "plt.title('Precio de la luz vs. Tiempo')\n",
    "plt.ylabel('Precio (€)')\n",
    "plt.legend()\n",
    "plt.gca().xaxis.set_major_locator(mdates.MonthLocator())\n",
    "plt.gca().xaxis.set_major_formatter(mdates.DateFormatter('%m-%Y'))\n",
    "plt.xticks(rotation=45)\n",
    "plt.tight_layout()\n",
    "plt.show()"
   ]
  },
  {
   "cell_type": "markdown",
   "id": "e8c212e5",
   "metadata": {},
   "source": [
    "Observamos en los boxplots que:\n",
    "- Las horas valle son al medio día y en los meses de marzo, abril y mayo\n",
    "- Las horas pico son a primeras horas del día (06:00) y por la tarde (19:00)"
   ]
  },
  {
   "cell_type": "code",
   "execution_count": null,
   "id": "9083c1b7",
   "metadata": {},
   "outputs": [],
   "source": [
    "# Boxplots\n",
    "df['hora'] = df.index.hour\n",
    "df['dia_semana'] = df.index.dayofweek \n",
    "df['mes'] = df.index.month\n",
    "\n",
    "fig, axes = plt.subplots(1, 2, figsize=(20, 6), constrained_layout=True)\n",
    "\n",
    "# Boxplot por hora\n",
    "sns.boxplot(x='hora', y='precio', data=df, ax=axes[0])\n",
    "axes[0].set_title('Precio por hora del día')\n",
    "axes[0].set_xlabel('Hora')\n",
    "axes[0].set_ylabel('Precio (€)')\n",
    "\n",
    "# Boxplot por mes\n",
    "sns.boxplot(x='mes', y='precio', data=df, ax=axes[1])\n",
    "axes[1].set_title('Precio por mes')\n",
    "axes[1].set_xlabel('Mes')\n",
    "\n",
    "plt.suptitle('Distribución del precio eléctrico según componentes temporales', fontsize=16)\n",
    "plt.show()"
   ]
  },
  {
   "cell_type": "markdown",
   "id": "6a28a6d3",
   "metadata": {},
   "source": [
    "La matriz de correlación nos muestra la relación entre las variables, en este caso nos interesa ver que tenemos valores intermedios entre la endógena y las exógenas, sin llegar a extremos cercanos a 1."
   ]
  },
  {
   "cell_type": "code",
   "execution_count": null,
   "id": "d5c65dd5",
   "metadata": {},
   "outputs": [],
   "source": [
    "# Matriz de correlación\n",
    "plt.figure(figsize=(8,6))\n",
    "sns.heatmap(df[['precio', 'generacion_eolica', 'generacion_solar', 'demanda_real', 'hora', 'dia_semana', 'mes']].corr(), annot=True, cmap='coolwarm')\n",
    "plt.title('Matriz de correlación')\n",
    "plt.show()"
   ]
  },
  {
   "cell_type": "code",
   "execution_count": null,
   "id": "d2b0fb5d",
   "metadata": {},
   "outputs": [],
   "source": [
    "fig, axes = plt.subplots(2, 1, figsize=(14, 8), sharex=True)\n",
    "\n",
    "plot_acf(df['precio'], lags=60, ax=axes[0])\n",
    "axes[0].set_title('ACF - Precio de la luz')\n",
    "axes[0].set_ylabel('Autocorrelación')\n",
    "\n",
    "plot_pacf(df['precio'], lags=60, ax=axes[1], method='ywm')\n",
    "axes[1].set_title('PACF - Precio de la luz')\n",
    "axes[1].set_ylabel('Autocorrelación parcial')\n",
    "\n",
    "plt.tight_layout()\n",
    "plt.show()"
   ]
  },
  {
   "cell_type": "markdown",
   "id": "6cc74609",
   "metadata": {},
   "source": [
    "# Análisis de la serie temporal"
   ]
  },
  {
   "cell_type": "code",
   "execution_count": null,
   "id": "de567f17",
   "metadata": {},
   "outputs": [],
   "source": [
    "# Una diferenciación estacional D\n",
    "df_diferenciada = df['precio'].diff(24).dropna()\n",
    "\n",
    "# Graficamos la serie diferenciada\n",
    "plt.figure(figsize=(14,6))\n",
    "plt.plot(df_diferenciada.index, df_diferenciada,label = 'precios diferenciados', color='blue')\n",
    "plt.title('Serie diferenciada D=1, s=24')\n",
    "plt.xlabel('Fecha')\n",
    "plt.ylabel('Precio (€)')\n",
    "plt.legend()\n",
    "plt.show()"
   ]
  },
  {
   "cell_type": "markdown",
   "id": "5496156e",
   "metadata": {},
   "source": [
    "## Miramos los ACF y PACF de la serie diferenciada D=0 (s=24) y d = 1"
   ]
  },
  {
   "cell_type": "code",
   "execution_count": null,
   "id": "2c5c06b2",
   "metadata": {},
   "outputs": [],
   "source": [
    "# ACF y PACF de la serie diferenciada\n",
    "fig, axes = plt.subplots(2, 1, figsize=(14, 8), sharex=True)\n",
    "\n",
    "plot_acf(df_diferenciada, lags=60, ax=axes[0])\n",
    "axes[0].set_title('ACF - Precio de la luz diferenciado')\n",
    "axes[0].set_ylabel('Autocorrelación')\n",
    "\n",
    "plot_pacf(df_diferenciada, lags=60, ax=axes[1], method='ywm')\n",
    "axes[1].set_title('PACF - Precio de la luz diferenciado')\n",
    "axes[1].set_ylabel('Autocorrelación parcial')\n",
    "\n",
    "plt.tight_layout()\n",
    "plt.show()"
   ]
  },
  {
   "cell_type": "markdown",
   "id": "e1f2f099",
   "metadata": {},
   "source": [
    "Realizamos el test ADF y KSS para ver como es la serie\n",
    "\n",
    "- **ADF:** Lo que contrastamos con este test es\n",
    "\n",
    "    - La hipótesis nula (`H_0`) es que existe una raíz unitaria y por tanto la serie es **NO** estacionaria. (p-valor > `alpha`) \n",
    "    - La hipótesis alternativa (`H_a`) de que la serie **SÍ** es estacionaria. (p-valor < `alpha`) \n",
    "\n",
    "- **KSS:** En este caso es al revés:\n",
    "    - La hipótesis nula (`H_0`) es que la serie **SÍ** es estacionaria. (p-valor > `alpha`) \n",
    "    - La hipótesis alternativa (`H_a`) de que la serie **NO** es estacionaria. (p-valor < `alpha`) "
   ]
  },
  {
   "cell_type": "code",
   "execution_count": null,
   "id": "bc9f04ad",
   "metadata": {},
   "outputs": [],
   "source": [
    "# ADF y KPSS\n",
    "adf_test = adfuller(df_diferenciada, autolag='AIC')\n",
    "print(f\"ADF p-value: {adf_test[1]}\")\n",
    "kpss_test = kpss(df_diferenciada, regression='c')\n",
    "print(f\"KPSS p-value: {kpss_test[1]}\")"
   ]
  },
  {
   "cell_type": "markdown",
   "id": "c308a94d",
   "metadata": {},
   "source": [
    "## Diferenciamos la serie y la graficamos"
   ]
  },
  {
   "cell_type": "code",
   "execution_count": null,
   "id": "6b3c7875",
   "metadata": {},
   "outputs": [],
   "source": [
    "# Una diferenciación d y otra estacional D\n",
    "df_diferenciada_doble = df['precio'].diff().diff(24).dropna()\n",
    "\n",
    "# Graficamos la serie diferenciada\n",
    "plt.figure(figsize=(14,6))\n",
    "plt.plot(df_diferenciada_doble.index, df_diferenciada_doble,label = 'precios diferenciados', color='blue')\n",
    "plt.title('Serie diferenciada d=D=1, s=24')\n",
    "plt.xlabel('Fecha')\n",
    "plt.ylabel('Precio (€)')\n",
    "plt.legend()\n",
    "plt.show()"
   ]
  },
  {
   "cell_type": "markdown",
   "id": "a9f88c1a",
   "metadata": {},
   "source": [
    "## Miramos los ACF y PACF de la serie diferenciada d=D=1 (s=24)"
   ]
  },
  {
   "cell_type": "code",
   "execution_count": null,
   "id": "9338f740",
   "metadata": {},
   "outputs": [],
   "source": [
    "# ACF y PACF de la serie diferenciada\n",
    "fig, axes = plt.subplots(2, 1, figsize=(14, 8), sharex=True)\n",
    "\n",
    "plot_acf(df_diferenciada_doble, lags=60, ax=axes[0])\n",
    "axes[0].set_title('ACF - Precio de la luz diferenciado')\n",
    "axes[0].set_ylabel('Autocorrelación')\n",
    "\n",
    "plot_pacf(df_diferenciada_doble, lags=60, ax=axes[1], method='ywm')\n",
    "axes[1].set_title('PACF - Precio de la luz diferenciado')\n",
    "axes[1].set_ylabel('Autocorrelación parcial')\n",
    "\n",
    "plt.tight_layout()\n",
    "plt.show()"
   ]
  },
  {
   "cell_type": "markdown",
   "id": "a6e18ff6",
   "metadata": {},
   "source": [
    "Realizamos el test ADF y KSS para ver como es la serie\n",
    "\n",
    "- **ADF:** Lo que contrastamos con este test es\n",
    "\n",
    "    - La hipótesis nula (`H_0`) es que existe una raíz unitaria y por tanto la serie es no estacionaria. (p-valor > `alpha`) \n",
    "    - La hipótesis alternativa (`H_a`) de que la serie es estacionaria. (p-valor < `alpha`) \n",
    "\n",
    "- **KSS:** En este caso es al revés:\n",
    "    - La hipótesis nula (`H_0`) es que la serie sí es estacionaria. (p-valor > `alpha`) \n",
    "    - La hipótesis alternativa (`H_a`) de que la serie no es estacionaria. (p-valor < `alpha`) "
   ]
  },
  {
   "cell_type": "code",
   "execution_count": null,
   "id": "d074dd18",
   "metadata": {},
   "outputs": [],
   "source": [
    "adf_test = adfuller(df_diferenciada_doble, autolag='AIC')\n",
    "print(f\"p-value: {adf_test[1]}\")\n",
    "kpss_test = kpss(df_diferenciada_doble, regression='c')\n",
    "print(f\"KPSS p-value: {kpss_test[1]}\")"
   ]
  },
  {
   "cell_type": "markdown",
   "id": "c2795e3c",
   "metadata": {},
   "source": [
    "Utilizamos el auto-arima para encontrar la mejor configuración"
   ]
  },
  {
   "cell_type": "code",
   "execution_count": null,
   "id": "d5073764",
   "metadata": {},
   "outputs": [],
   "source": [
    "modelo_arima = auto_arima(\n",
    "    y=y_train,\n",
    "    X=X_train, \n",
    "    m=24,           \n",
    "    start_p=1, max_p=2,\n",
    "    start_q=0, max_q=1,\n",
    "    start_P=0, max_P=1,\n",
    "    start_Q=0, max_Q=1,\n",
    "    seasonal=True,\n",
    "    stepwise=True,\n",
    "    trace=True,\n",
    "    test='kpss',\n",
    "    error_action='ignore',\n",
    "    suppress_warnings=True,\n",
    "    n_fits=50,\n",
    "    return_all=False,\n",
    "    n_jobs=-1,\n",
    ")\n",
    "\n",
    "# Resumen del modelo\n",
    "print(modelo_arima.summary())\n",
    "print(f\"Parámetros SARIMAX: {modelo_arima.get_params()['order']} (ARIMA) y {modelo_arima.get_params()['seasonal_order']} (estacional)\")"
   ]
  },
  {
   "cell_type": "markdown",
   "id": "a93033fd",
   "metadata": {},
   "source": [
    "Los mejores modelos son:\n",
    "\n",
    "| Rank | Modelo                             | AIC            |\n",
    "| ---- | ---------------------------------- | -------------- |\n",
    "| 1  | SARIMAX(2,1,0)(1,0,1,24) |140503.664|  \n",
    "| 2  | SARIMAX(1,1,1)(1,0,1,24) |140808.352|\n",
    "| 3  | SARIMAX(0,1,1)(1,0,1,24) |140823.120|             "
   ]
  },
  {
   "cell_type": "markdown",
   "id": "561f81ae",
   "metadata": {},
   "source": [
    "# (2,1,1)x(1,1,1,24)'"
   ]
  },
  {
   "cell_type": "code",
   "execution_count": null,
   "id": "ac42e138",
   "metadata": {},
   "outputs": [],
   "source": [
    "modelo_arima = SARIMAX(\n",
    "    endog=y_train,\n",
    "    exog=X_train,\n",
    "    order=(2, 1, 1),\n",
    "    seasonal_order=(1, 1, 1, 24)\n",
    ")\n",
    "modelo_arima_fit = modelo_arima.fit(disp=False)\n",
    "\n",
    "start_pred = 0\n",
    "end_pred = len(y_test) - 1\n",
    "\n",
    "pred_test_obj = modelo_arima_fit.get_prediction(\n",
    "    start=start_pred, \n",
    "    end=end_pred, \n",
    "    exog=X_test\n",
    ")\n",
    "# Obtenemos las predicciones y sus índices\n",
    "y_pred_test = pred_test_obj.predicted_mean\n",
    "y_true_test = y_test\n",
    "y_pred_test.index = y_test.index"
   ]
  },
  {
   "cell_type": "markdown",
   "id": "42eb8856",
   "metadata": {},
   "source": [
    "## Evaluamos métricas"
   ]
  },
  {
   "cell_type": "code",
   "execution_count": null,
   "id": "09520b69",
   "metadata": {},
   "outputs": [],
   "source": [
    "print(f\"MAE en la predicción: {mean_absolute_error(y_true_test, y_pred_test):.2f}\")\n",
    "print(f\"RMSE en la predicción: {root_mean_squared_error(y_true_test, y_pred_test):.2f}\")\n",
    "print(f\"R² en la predicción: {r2_score(y_true_test, y_pred_test):.2f}\")"
   ]
  },
  {
   "cell_type": "markdown",
   "id": "fca20438",
   "metadata": {},
   "source": [
    "## Graficamos"
   ]
  },
  {
   "cell_type": "code",
   "execution_count": null,
   "id": "549f51d2",
   "metadata": {},
   "outputs": [],
   "source": [
    "# Gráfico\n",
    "plt.figure(figsize=(15, 6)) \n",
    "plt.plot(y_true_test.index, y_true_test, label='Precio Real (Test)', color='green') \n",
    "plt.plot(y_pred_test.index, y_pred_test, label='Predicción SARIMAX (Test)', color='blue', alpha=0.8) \n",
    "plt.title(\"Evaluación del Modelo SARIMAX en el test set\") \n",
    "plt.xlabel(\"Fecha\") \n",
    "plt.ylabel(\"Precio\") \n",
    "plt.legend() \n",
    "plt.grid(True, linestyle='--', alpha=0.5)\n",
    "plt.axhline(0, color='red', linestyle='--', linewidth=0.8)\n",
    "plt.tight_layout() \n",
    "plt.show()"
   ]
  },
  {
   "cell_type": "markdown",
   "id": "e4142224",
   "metadata": {},
   "source": [
    "## Errores"
   ]
  },
  {
   "cell_type": "code",
   "execution_count": null,
   "id": "8eb7dd30",
   "metadata": {},
   "outputs": [],
   "source": [
    "errores_test = y_true_test - y_pred_test\n",
    "media_err = errores_test.mean()\n",
    "desv_err = errores_test.std()\n",
    "fig, axs = plt.subplots(2, 2, figsize=(14, 10))\n",
    "fig.suptitle('Análisis de Errores - Test de Mayo 2025', fontsize=16)\n",
    "\n",
    "# Errores a lo largo del tiempo\n",
    "axs[0, 0].plot(errores_test.index, errores_test, color='red', label='Error')\n",
    "axs[0, 0].axhline(media_err, ls='--', color='black', label=f'Media: {media_err:.2f}')\n",
    "axs[0, 0].set_title('Errores Temporales')\n",
    "axs[0, 0].grid(True, linestyle='--', alpha=0.5)\n",
    "axs[0, 0].legend()\n",
    "\n",
    "# Histograma\n",
    "sns.histplot(errores_test, bins=30, kde=True, ax=axs[0, 1], color='orange')\n",
    "axs[0, 1].set_title('Distribución de Errores')\n",
    "\n",
    "# Q-Q Plot\n",
    "stats.probplot(errores_test, dist=\"norm\", plot=axs[1, 0])\n",
    "axs[1, 0].set_title('Q-Q Plot de Normalidad')\n",
    "\n",
    "# Boxplot\n",
    "sns.boxplot(x=errores_test, ax=axs[1, 1], color='lightblue')\n",
    "axs[1, 1].set_title('Boxplot de Errores')\n",
    "plt.tight_layout(rect=[0, 0.03, 1, 0.95])\n",
    "plt.show()"
   ]
  },
  {
   "cell_type": "markdown",
   "id": "34180b12",
   "metadata": {},
   "source": [
    "## Prediccion sobre conjunto de validación"
   ]
  },
  {
   "cell_type": "code",
   "execution_count": null,
   "id": "0c1c149b",
   "metadata": {},
   "outputs": [],
   "source": [
    "y_historico = pd.concat([y_train, y_test])\n",
    "X_historico = pd.concat([X_train, X_test])\n",
    "\n",
    "modelo_final = SARIMAX(\n",
    "    endog=y_historico,\n",
    "    exog=X_historico,\n",
    "    order=(2, 1, 1),\n",
    "    seasonal_order=(1, 1, 1, 24)\n",
    ")\n",
    "modelo_final_fit = modelo_final.fit(disp=False)\n",
    "\n",
    "start_pred = 0\n",
    "end_pred = len(y_prediccion_real) - 1\n",
    "\n",
    "# Hacemos la predicción final sobre el conjunto de validación\n",
    "forecast_future_obj = modelo_final_fit.get_prediction(\n",
    "    start=start_pred,\n",
    "    end=end_pred,\n",
    "    exog=X_prediccion\n",
    ")\n",
    "\n",
    "y_pred_val = forecast_future_obj.predicted_mean\n",
    "y_pred_val.index = y_prediccion_real.index\n",
    "y_true_val = y_prediccion_real"
   ]
  },
  {
   "cell_type": "markdown",
   "id": "fa3636cd",
   "metadata": {},
   "source": [
    "Intervalos de confianza"
   ]
  },
  {
   "cell_type": "code",
   "execution_count": null,
   "id": "39d8f7ca",
   "metadata": {},
   "outputs": [],
   "source": [
    "residuals = modelo_final_fit.resid\n",
    "\n",
    "garch_model = arch_model(residuals, vol='Garch', p=1, q=1, mean='Zero')\n",
    "garch_fit = garch_model.fit(disp='off')\n",
    "volatility_forecast = np.sqrt(\n",
    "    garch_fit.forecast(horizon=len(X_prediccion), reindex=False).variance.values.flatten()\n",
    ")\n",
    "\n",
    "# Calcula el intervalo de confianza\n",
    "conf_int_inf = y_pred_val - 1.96 * volatility_forecast\n",
    "conf_int_sup = y_pred_val + 1.96 * volatility_forecast"
   ]
  },
  {
   "cell_type": "markdown",
   "id": "9f426c4e",
   "metadata": {},
   "source": [
    "## Evaluación métricas"
   ]
  },
  {
   "cell_type": "code",
   "execution_count": null,
   "id": "9064b9d9",
   "metadata": {},
   "outputs": [],
   "source": [
    "print(f\"MAE en la predicción: {mean_absolute_error(y_true_val, y_pred_val):.2f}\")\n",
    "print(f\"RMSE en la predicción: {root_mean_squared_error(y_true_val, y_pred_val):.2f}\")\n",
    "print(f\"R² en la predicción: {r2_score(y_true_val, y_pred_val):.2f}\")"
   ]
  },
  {
   "cell_type": "markdown",
   "id": "07e8f634",
   "metadata": {},
   "source": [
    "## Graficamos"
   ]
  },
  {
   "cell_type": "code",
   "execution_count": null,
   "id": "ac39b602",
   "metadata": {},
   "outputs": [],
   "source": [
    "plt.figure(figsize=(15, 6)) \n",
    "plt.plot(y_true_val.index, y_true_val, label='Precio Real', color='green') \n",
    "plt.plot(y_pred_val.index, y_pred_val, label='Precio Predicho (SARIMAX)', color='blue') \n",
    "plt.fill_between( \n",
    "    y_true_val.index, conf_int_inf, conf_int_sup, \n",
    "    color='skyblue', alpha=0.4, label='IC 95%' \n",
    ") \n",
    "plt.title(\"Predicción del Precio de la Luz (SARIMAX)\") \n",
    "plt.xlabel(\"Fecha\") \n",
    "plt.ylabel(\"Precio (€/MWh)\")\n",
    "plt.axhline(0, color='red', linestyle='--', linewidth=0.8)\n",
    "plt.legend() \n",
    "plt.grid(True, linestyle='--', alpha=0.5) \n",
    "plt.tight_layout() \n",
    "plt.show()"
   ]
  },
  {
   "cell_type": "markdown",
   "id": "8f7e582b",
   "metadata": {},
   "source": [
    "## Errores"
   ]
  },
  {
   "cell_type": "code",
   "execution_count": null,
   "id": "35c705d1",
   "metadata": {},
   "outputs": [],
   "source": [
    "errores_pred = y_true_val - y_pred_val\n",
    "media_err = errores_pred.mean()\n",
    "desv_err = errores_pred.std()\n",
    "fig, axs = plt.subplots(2, 2, figsize=(14, 10))\n",
    "fig.suptitle('Análisis de Errores - Predicción de Junio 2025', fontsize=16)\n",
    "\n",
    "# Errores a lo largo del tiempo\n",
    "axs[0, 0].plot(y_true_val.index, errores_pred, color='red', label='Error')\n",
    "axs[0, 0].axhline(media_err, ls='--', color='black', label=f'Media: {media_err:.2f}')\n",
    "axs[0, 0].set_title('Errores Temporales')\n",
    "axs[0, 0].grid(True, linestyle='--', alpha=0.5)\n",
    "axs[0, 0].legend()\n",
    "\n",
    "# Histograma\n",
    "sns.histplot(errores_pred, bins=30, kde=True, ax=axs[0, 1], color='orange')\n",
    "axs[0, 1].set_title('Distribución de Errores')\n",
    "\n",
    "# Q-Q Plot\n",
    "stats.probplot(errores_pred, dist=\"norm\", plot=axs[1, 0])\n",
    "axs[1, 0].set_title('Q-Q Plot de Normalidad')\n",
    "\n",
    "# Boxplot\n",
    "sns.boxplot(x=errores_pred, ax=axs[1, 1], color='lightblue')\n",
    "axs[1, 1].set_title('Boxplot de Errores')\n",
    "plt.tight_layout(rect=[0, 0.03, 1, 0.95])\n",
    "plt.show()"
   ]
  },
  {
   "cell_type": "markdown",
   "id": "bacbc11b",
   "metadata": {},
   "source": [
    "# (1,1,1)x(1,1,1,24)'"
   ]
  },
  {
   "cell_type": "code",
   "execution_count": null,
   "id": "c9d48e44",
   "metadata": {},
   "outputs": [],
   "source": [
    "modelo_arima = SARIMAX(\n",
    "    endog=y_train,\n",
    "    exog=X_train,\n",
    "    order=(1, 1, 1),\n",
    "    seasonal_order=(1, 1, 1, 24)\n",
    ")\n",
    "modelo_arima_fit = modelo_arima.fit(disp=False)\n",
    "\n",
    "start_pred = 0\n",
    "end_pred = len(y_test) - 1\n",
    "\n",
    "pred_test_obj = modelo_arima_fit.get_prediction(\n",
    "    start=start_pred, \n",
    "    end=end_pred, \n",
    "    exog=X_test\n",
    ")\n",
    "# Obtenemos las predicciones y sus índices\n",
    "y_pred_test = pred_test_obj.predicted_mean\n",
    "y_true_test = y_test\n",
    "y_pred_test.index = y_test.index"
   ]
  },
  {
   "cell_type": "markdown",
   "id": "38487d4e",
   "metadata": {},
   "source": [
    "## Evaluamos métricas"
   ]
  },
  {
   "cell_type": "code",
   "execution_count": null,
   "id": "194dccd3",
   "metadata": {},
   "outputs": [],
   "source": [
    "print(f\"MAE en la predicción: {mean_absolute_error(y_true_test, y_pred_test):.2f}\")\n",
    "print(f\"RMSE en la predicción: {root_mean_squared_error(y_true_test, y_pred_test):.2f}\")\n",
    "print(f\"R² en la predicción: {r2_score(y_true_test, y_pred_test):.2f}\")"
   ]
  },
  {
   "cell_type": "markdown",
   "id": "a62c071e",
   "metadata": {},
   "source": [
    "## Graficamos"
   ]
  },
  {
   "cell_type": "code",
   "execution_count": null,
   "id": "b347756c",
   "metadata": {},
   "outputs": [],
   "source": [
    "# Gráfico\n",
    "plt.figure(figsize=(15, 6)) \n",
    "plt.plot(y_true_test.index, y_true_test, label='Precio Real (Test)', color='green') \n",
    "plt.plot(y_pred_test.index, y_pred_test, label='Predicción SARIMAX (Test)', color='blue', alpha=0.8) \n",
    "plt.title(\"Evaluación del Modelo SARIMAX en el test set\") \n",
    "plt.xlabel(\"Fecha\") \n",
    "plt.ylabel(\"Precio\") \n",
    "plt.legend() \n",
    "plt.grid(True, linestyle='--', alpha=0.5)\n",
    "plt.axhline(0, color='red', linestyle='--', linewidth=0.8)\n",
    "plt.tight_layout() \n",
    "plt.show()"
   ]
  },
  {
   "cell_type": "markdown",
   "id": "9771cdef",
   "metadata": {},
   "source": [
    "## Errores"
   ]
  },
  {
   "cell_type": "code",
   "execution_count": null,
   "id": "1227749b",
   "metadata": {},
   "outputs": [],
   "source": [
    "errores_test = y_true_test - y_pred_test\n",
    "media_err = errores_test.mean()\n",
    "desv_err = errores_test.std()\n",
    "fig, axs = plt.subplots(2, 2, figsize=(14, 10))\n",
    "fig.suptitle('Análisis de Errores - Test de Mayo 2025', fontsize=16)\n",
    "\n",
    "# Errores a lo largo del tiempo\n",
    "axs[0, 0].plot(errores_test.index, errores_test, color='red', label='Error')\n",
    "axs[0, 0].axhline(media_err, ls='--', color='black', label=f'Media: {media_err:.2f}')\n",
    "axs[0, 0].set_title('Errores Temporales')\n",
    "axs[0, 0].grid(True, linestyle='--', alpha=0.5)\n",
    "axs[0, 0].legend()\n",
    "\n",
    "# Histograma\n",
    "sns.histplot(errores_test, bins=30, kde=True, ax=axs[0, 1], color='orange')\n",
    "axs[0, 1].set_title('Distribución de Errores')\n",
    "\n",
    "# Q-Q Plot\n",
    "stats.probplot(errores_test, dist=\"norm\", plot=axs[1, 0])\n",
    "axs[1, 0].set_title('Q-Q Plot de Normalidad')\n",
    "\n",
    "# Boxplot\n",
    "sns.boxplot(x=errores_test, ax=axs[1, 1], color='lightblue')\n",
    "axs[1, 1].set_title('Boxplot de Errores')\n",
    "plt.tight_layout(rect=[0, 0.03, 1, 0.95])\n",
    "plt.show()"
   ]
  },
  {
   "cell_type": "markdown",
   "id": "3c7980a1",
   "metadata": {},
   "source": [
    "## Prediccion sobre conjunto de validación"
   ]
  },
  {
   "cell_type": "code",
   "execution_count": null,
   "id": "0be5de7f",
   "metadata": {},
   "outputs": [],
   "source": [
    "# Unimos los datos para reentrenar el modelo\n",
    "y_historico = pd.concat([y_train, y_test])\n",
    "X_historico = pd.concat([X_train, X_test])\n",
    "\n",
    "modelo_final = SARIMAX(\n",
    "    endog=y_historico,\n",
    "    exog=X_historico,\n",
    "    order=(1, 1, 1),\n",
    "    seasonal_order=(1, 1, 1, 24)\n",
    ")\n",
    "modelo_final_fit = modelo_final.fit(disp=False)\n",
    "\n",
    "start_pred = 0\n",
    "end_pred = len(y_prediccion_real) - 1\n",
    "\n",
    "# Hacemos la predicción final sobre el conjunto de validación\n",
    "forecast_future_obj = modelo_final_fit.get_prediction(\n",
    "    start=start_pred,\n",
    "    end=end_pred,\n",
    "    exog=X_prediccion\n",
    ")\n",
    "\n",
    "y_pred_val = forecast_future_obj.predicted_mean\n",
    "y_pred_val.index = y_prediccion_real.index\n",
    "y_true_val = y_prediccion_real"
   ]
  },
  {
   "cell_type": "markdown",
   "id": "fa78f9fc",
   "metadata": {},
   "source": [
    "Intervalos de confianza"
   ]
  },
  {
   "cell_type": "code",
   "execution_count": null,
   "id": "38ca4c2f",
   "metadata": {},
   "outputs": [],
   "source": [
    "residuals = modelo_final_fit.resid\n",
    "\n",
    "garch_model = arch_model(residuals, vol='Garch', p=1, q=1, mean='Zero')\n",
    "garch_fit = garch_model.fit(disp='off')\n",
    "volatility_forecast = np.sqrt(\n",
    "    garch_fit.forecast(horizon=len(X_prediccion), reindex=False).variance.values.flatten()\n",
    ")\n",
    "\n",
    "# Calcula el intervalo de confianza\n",
    "conf_int_inf = y_pred_val - 1.96 * volatility_forecast\n",
    "conf_int_sup = y_pred_val + 1.96 * volatility_forecast"
   ]
  },
  {
   "cell_type": "markdown",
   "id": "45f5ca9f",
   "metadata": {},
   "source": [
    "## Evaluación métricas"
   ]
  },
  {
   "cell_type": "code",
   "execution_count": null,
   "id": "0d689c23",
   "metadata": {},
   "outputs": [],
   "source": [
    "print(f\"MAE en la predicción: {mean_absolute_error(y_true_val, y_pred_val):.2f}\")\n",
    "print(f\"RMSE en la predicción: {root_mean_squared_error(y_true_val, y_pred_val):.2f}\")\n",
    "print(f\"R² en la predicción: {r2_score(y_true_val, y_pred_val):.2f}\")"
   ]
  },
  {
   "cell_type": "markdown",
   "id": "e1488c65",
   "metadata": {},
   "source": [
    "## Graficamos"
   ]
  },
  {
   "cell_type": "code",
   "execution_count": null,
   "id": "d999b62e",
   "metadata": {},
   "outputs": [],
   "source": [
    "plt.figure(figsize=(15, 6)) \n",
    "plt.plot(y_true_val.index, y_true_val, label='Precio Real', color='green') \n",
    "plt.plot(y_pred_val.index, y_pred_val, label='Precio Predicho (SARIMAX)', color='blue') \n",
    "plt.fill_between( \n",
    "    y_true_val.index, conf_int_inf, conf_int_sup, \n",
    "    color='skyblue', alpha=0.4, label='IC 95%' \n",
    ") \n",
    "plt.title(\"Predicción del Precio de la Luz (SARIMAX)\") \n",
    "plt.xlabel(\"Fecha\") \n",
    "plt.ylabel(\"Precio (€/MWh)\")\n",
    "plt.axhline(0, color='red', linestyle='--', linewidth=0.8)\n",
    "plt.legend() \n",
    "plt.grid(True, linestyle='--', alpha=0.5) \n",
    "plt.tight_layout() \n",
    "plt.show()"
   ]
  },
  {
   "cell_type": "markdown",
   "id": "96b5c526",
   "metadata": {},
   "source": [
    "## Errores"
   ]
  },
  {
   "cell_type": "code",
   "execution_count": null,
   "id": "d6b5eda1",
   "metadata": {},
   "outputs": [],
   "source": [
    "errores_pred = y_true_val - y_pred_val\n",
    "media_err = errores_pred.mean()\n",
    "desv_err = errores_pred.std()\n",
    "fig, axs = plt.subplots(2, 2, figsize=(14, 10))\n",
    "fig.suptitle('Análisis de Errores - Predicción de Junio 2025', fontsize=16)\n",
    "\n",
    "# Errores a lo largo del tiempo\n",
    "axs[0, 0].plot(y_true_val.index, errores_pred, color='red', label='Error')\n",
    "axs[0, 0].axhline(media_err, ls='--', color='black', label=f'Media: {media_err:.2f}')\n",
    "axs[0, 0].set_title('Errores Temporales')\n",
    "axs[0, 0].grid(True, linestyle='--', alpha=0.5)\n",
    "axs[0, 0].legend()\n",
    "\n",
    "# Histograma\n",
    "sns.histplot(errores_pred, bins=30, kde=True, ax=axs[0, 1], color='orange')\n",
    "axs[0, 1].set_title('Distribución de Errores')\n",
    "\n",
    "# Q-Q Plot\n",
    "stats.probplot(errores_pred, dist=\"norm\", plot=axs[1, 0])\n",
    "axs[1, 0].set_title('Q-Q Plot de Normalidad')\n",
    "\n",
    "# Boxplot\n",
    "sns.boxplot(x=errores_pred, ax=axs[1, 1], color='lightblue')\n",
    "axs[1, 1].set_title('Boxplot de Errores')\n",
    "plt.tight_layout(rect=[0, 0.03, 1, 0.95])\n",
    "plt.show()"
   ]
  },
  {
   "cell_type": "markdown",
   "id": "fce688b7",
   "metadata": {},
   "source": [
    "# (2,1,0)x(1,1,0,24)'"
   ]
  },
  {
   "cell_type": "code",
   "execution_count": null,
   "id": "90a54b29",
   "metadata": {},
   "outputs": [],
   "source": [
    "# Usamos SARIMAX directamente con los mejores parámetros que ya conocemos.\n",
    "modelo_arima = SARIMAX(\n",
    "    endog=y_train,\n",
    "    exog=X_train,\n",
    "    order=(2, 1, 0),\n",
    "    seasonal_order=(1, 1, 0, 24)\n",
    ")\n",
    "modelo_arima_fit = modelo_arima.fit(disp=False)\n",
    "\n",
    "start_pred = 0\n",
    "end_pred = len(y_test) - 1\n",
    "\n",
    "pred_test_obj = modelo_arima_fit.get_prediction(\n",
    "    start=start_pred, \n",
    "    end=end_pred, \n",
    "    exog=X_test\n",
    ")\n",
    "# Obtenemos las predicciones y sus índices\n",
    "y_pred_test = pred_test_obj.predicted_mean\n",
    "y_true_test = y_test\n",
    "y_pred_test.index = y_test.index"
   ]
  },
  {
   "cell_type": "markdown",
   "id": "92f4c395",
   "metadata": {},
   "source": [
    "## Evaluamos métricas"
   ]
  },
  {
   "cell_type": "code",
   "execution_count": null,
   "id": "e5c034a2",
   "metadata": {},
   "outputs": [],
   "source": [
    "print(f\"MAE en la predicción: {mean_absolute_error(y_true_test, y_pred_test):.2f}\")\n",
    "print(f\"RMSE en la predicción: {root_mean_squared_error(y_true_test, y_pred_test):.2f}\")\n",
    "print(f\"R² en la predicción: {r2_score(y_true_test, y_pred_test):.2f}\")"
   ]
  },
  {
   "cell_type": "markdown",
   "id": "3f315285",
   "metadata": {},
   "source": [
    "## Graficamos"
   ]
  },
  {
   "cell_type": "code",
   "execution_count": null,
   "id": "4957d8af",
   "metadata": {},
   "outputs": [],
   "source": [
    "# Gráfico\n",
    "plt.figure(figsize=(15, 6)) \n",
    "plt.plot(y_true_test.index, y_true_test, label='Precio Real (Test)', color='green') \n",
    "plt.plot(y_pred_test.index, y_pred_test, label='Predicción SARIMAX (Test)', color='blue', alpha=0.8) \n",
    "plt.title(\"Evaluación del Modelo SARIMAX en el test set\") \n",
    "plt.xlabel(\"Fecha\") \n",
    "plt.ylabel(\"Precio\") \n",
    "plt.legend() \n",
    "plt.grid(True, linestyle='--', alpha=0.5)\n",
    "plt.axhline(0, color='red', linestyle='--', linewidth=0.8)\n",
    "plt.tight_layout() \n",
    "plt.show()"
   ]
  },
  {
   "cell_type": "markdown",
   "id": "c342f69b",
   "metadata": {},
   "source": [
    "## Errores"
   ]
  },
  {
   "cell_type": "code",
   "execution_count": null,
   "id": "7411ed3f",
   "metadata": {},
   "outputs": [],
   "source": [
    "errores_test = y_true_test - y_pred_test\n",
    "media_err = errores_test.mean()\n",
    "desv_err = errores_test.std()\n",
    "fig, axs = plt.subplots(2, 2, figsize=(14, 10))\n",
    "fig.suptitle('Análisis de Errores - Test de Mayo 2025', fontsize=16)\n",
    "\n",
    "# Errores a lo largo del tiempo\n",
    "axs[0, 0].plot(errores_test.index, errores_test, color='red', label='Error')\n",
    "axs[0, 0].axhline(media_err, ls='--', color='black', label=f'Media: {media_err:.2f}')\n",
    "axs[0, 0].set_title('Errores Temporales')\n",
    "axs[0, 0].grid(True, linestyle='--', alpha=0.5)\n",
    "axs[0, 0].legend()\n",
    "\n",
    "# Histograma\n",
    "sns.histplot(errores_test, bins=30, kde=True, ax=axs[0, 1], color='orange')\n",
    "axs[0, 1].set_title('Distribución de Errores')\n",
    "\n",
    "# Q-Q Plot\n",
    "stats.probplot(errores_test, dist=\"norm\", plot=axs[1, 0])\n",
    "axs[1, 0].set_title('Q-Q Plot de Normalidad')\n",
    "\n",
    "# Boxplot\n",
    "sns.boxplot(x=errores_test, ax=axs[1, 1], color='lightblue')\n",
    "axs[1, 1].set_title('Boxplot de Errores')\n",
    "plt.tight_layout(rect=[0, 0.03, 1, 0.95])\n",
    "plt.show()"
   ]
  },
  {
   "cell_type": "markdown",
   "id": "6d03c4da",
   "metadata": {},
   "source": [
    "## Prediccion sobre conjunto de validación"
   ]
  },
  {
   "cell_type": "code",
   "execution_count": null,
   "id": "2084ab41",
   "metadata": {},
   "outputs": [],
   "source": [
    "# Unimos los datos para reentrenar el modelo\n",
    "y_historico = pd.concat([y_train, y_test])\n",
    "X_historico = pd.concat([X_train, X_test])\n",
    "\n",
    "modelo_final = SARIMAX(\n",
    "    endog=y_historico,\n",
    "    exog=X_historico,\n",
    "    order=(2, 1, 0),\n",
    "    seasonal_order=(1, 1, 0, 24)\n",
    ")\n",
    "modelo_final_fit = modelo_final.fit(disp=False)\n",
    "\n",
    "start_pred = 0\n",
    "end_pred = len(y_prediccion_real) - 1\n",
    "\n",
    "# Hacemos la predicción final sobre el conjunto de validación\n",
    "forecast_future_obj = modelo_final_fit.get_prediction(\n",
    "    start=start_pred,\n",
    "    end=end_pred,\n",
    "    exog=X_prediccion\n",
    ")\n",
    "\n",
    "y_pred_val = forecast_future_obj.predicted_mean\n",
    "y_pred_val.index = y_prediccion_real.index\n",
    "y_true_val = y_prediccion_real"
   ]
  },
  {
   "cell_type": "markdown",
   "id": "f18003d6",
   "metadata": {},
   "source": [
    "Intervalos de confianza"
   ]
  },
  {
   "cell_type": "code",
   "execution_count": null,
   "id": "a88c4a35",
   "metadata": {},
   "outputs": [],
   "source": [
    "residuals = modelo_final_fit.resid\n",
    "\n",
    "garch_model = arch_model(residuals, vol='Garch', p=1, q=1, mean='Zero')\n",
    "garch_fit = garch_model.fit(disp='off')\n",
    "volatility_forecast = np.sqrt(\n",
    "    garch_fit.forecast(horizon=len(X_prediccion), reindex=False).variance.values.flatten()\n",
    ")\n",
    "\n",
    "# Calcula el intervalo de confianza\n",
    "conf_int_inf = y_pred_val - 1.96 * volatility_forecast\n",
    "conf_int_sup = y_pred_val + 1.96 * volatility_forecast"
   ]
  },
  {
   "cell_type": "markdown",
   "id": "c51740ad",
   "metadata": {},
   "source": [
    "## Evaluación métricas"
   ]
  },
  {
   "cell_type": "code",
   "execution_count": null,
   "id": "6bc82877",
   "metadata": {},
   "outputs": [],
   "source": [
    "print(f\"MAE en la predicción: {mean_absolute_error(y_true_val, y_pred_val):.2f}\")\n",
    "print(f\"RMSE en la predicción: {root_mean_squared_error(y_true_val, y_pred_val):.2f}\")\n",
    "print(f\"R² en la predicción: {r2_score(y_true_val, y_pred_val):.2f}\")"
   ]
  },
  {
   "cell_type": "markdown",
   "id": "93e5eb32",
   "metadata": {},
   "source": [
    "## Graficamos"
   ]
  },
  {
   "cell_type": "code",
   "execution_count": null,
   "id": "04981166",
   "metadata": {},
   "outputs": [],
   "source": [
    "plt.figure(figsize=(15, 6)) \n",
    "plt.plot(y_true_val.index, y_true_val, label='Precio Real', color='green') \n",
    "plt.plot(y_pred_val.index, y_pred_val, label='Precio Predicho (SARIMAX)', color='blue') \n",
    "plt.fill_between( \n",
    "    y_true_val.index, conf_int_inf, conf_int_sup, \n",
    "    color='skyblue', alpha=0.4, label='IC 95%' \n",
    ") \n",
    "plt.title(\"Predicción del Precio de la Luz (SARIMAX)\") \n",
    "plt.xlabel(\"Fecha\") \n",
    "plt.ylabel(\"Precio (€/MWh)\")\n",
    "plt.axhline(0, color='red', linestyle='--', linewidth=0.8)\n",
    "plt.legend() \n",
    "plt.grid(True, linestyle='--', alpha=0.5) \n",
    "plt.tight_layout() \n",
    "plt.show()"
   ]
  },
  {
   "cell_type": "markdown",
   "id": "c0f384d4",
   "metadata": {},
   "source": [
    "## Errores"
   ]
  },
  {
   "cell_type": "code",
   "execution_count": null,
   "id": "ee98cc2b",
   "metadata": {},
   "outputs": [],
   "source": [
    "errores_pred = y_true_val - y_pred_val\n",
    "media_err = errores_pred.mean()\n",
    "desv_err = errores_pred.std()\n",
    "fig, axs = plt.subplots(2, 2, figsize=(14, 10))\n",
    "fig.suptitle('Análisis de Errores - Predicción de Junio 2025', fontsize=16)\n",
    "\n",
    "# Errores a lo largo del tiempo\n",
    "axs[0, 0].plot(y_true_val.index, errores_pred, color='red', label='Error')\n",
    "axs[0, 0].axhline(media_err, ls='--', color='black', label=f'Media: {media_err:.2f}')\n",
    "axs[0, 0].set_title('Errores Temporales')\n",
    "axs[0, 0].grid(True, linestyle='--', alpha=0.5)\n",
    "axs[0, 0].legend()\n",
    "\n",
    "# Histograma\n",
    "sns.histplot(errores_pred, bins=30, kde=True, ax=axs[0, 1], color='orange')\n",
    "axs[0, 1].set_title('Distribución de Errores')\n",
    "\n",
    "# Q-Q Plot\n",
    "stats.probplot(errores_pred, dist=\"norm\", plot=axs[1, 0])\n",
    "axs[1, 0].set_title('Q-Q Plot de Normalidad')\n",
    "\n",
    "# Boxplot\n",
    "sns.boxplot(x=errores_pred, ax=axs[1, 1], color='lightblue')\n",
    "axs[1, 1].set_title('Boxplot de Errores')\n",
    "plt.tight_layout(rect=[0, 0.03, 1, 0.95])\n",
    "plt.show()"
   ]
  }
 ],
 "metadata": {
  "kernelspec": {
   "display_name": "Python 3",
   "language": "python",
   "name": "python3"
  },
  "language_info": {
   "codemirror_mode": {
    "name": "ipython",
    "version": 3
   },
   "file_extension": ".py",
   "mimetype": "text/x-python",
   "name": "python",
   "nbconvert_exporter": "python",
   "pygments_lexer": "ipython3",
   "version": "3.11.9"
  }
 },
 "nbformat": 4,
 "nbformat_minor": 5
}
